{
 "cells": [
  {
   "cell_type": "markdown",
   "metadata": {},
   "source": [
    "## Data Analytics using NumPy "
   ]
  },
  {
   "cell_type": "code",
   "execution_count": 1,
   "metadata": {},
   "outputs": [],
   "source": [
    "import numpy as np"
   ]
  },
  {
   "cell_type": "code",
   "execution_count": 2,
   "metadata": {},
   "outputs": [
    {
     "name": "stdout",
     "output_type": "stream",
     "text": [
      "arr=\n",
      "[[4 2 2]\n",
      " [4 1 4]]\n",
      "\n",
      "arr shape=\n",
      "(2, 3)\n",
      "\n",
      "arr size=\n",
      "6\n",
      "\n",
      "arr dim=\n",
      "2\n",
      "\n",
      "even no count=\n",
      "5\n",
      "\n",
      "odd no count=\n",
      "1\n"
     ]
    }
   ],
   "source": [
    "# 1.Create a rank 2 numpy array of random integers and print:\n",
    "# a) shape,size and dimensions of the array \n",
    "# b) number of odd and even integers in the array\n",
    "\n",
    "arr = np.random.randint(5,size=(2,3))                \n",
    "print(\"arr=\")\n",
    "print(arr)\n",
    "\n",
    "print(\"\\narr shape=\")\n",
    "print(arr.shape)\n",
    "\n",
    "print(\"\\narr size=\")\n",
    "print(arr.size)\n",
    "\n",
    "\n",
    "print(\"\\narr dim=\")\n",
    "print(arr.ndim)\n",
    "\n",
    "even = arr[arr%2 == 0]\n",
    "print(\"\\neven no count=\")\n",
    "print(even.size)\n",
    "\n",
    "even = arr[arr%2 != 0]\n",
    "print(\"\\nodd no count=\")\n",
    "print(even.size)\n"
   ]
  },
  {
   "cell_type": "code",
   "execution_count": 3,
   "metadata": {},
   "outputs": [
    {
     "data": {
      "text/plain": [
       "array([[0, 1, 2],\n",
       "       [3, 4, 5],\n",
       "       [6, 7, 8]])"
      ]
     },
     "execution_count": 3,
     "metadata": {},
     "output_type": "execute_result"
    }
   ],
   "source": [
    "# 2.Create a (3X3) numpy array with values ranging from 1 to 9.\n",
    "\n",
    "arr = np.arange(9).reshape(3,3)\n",
    "\n",
    "arr"
   ]
  },
  {
   "cell_type": "code",
   "execution_count": 4,
   "metadata": {},
   "outputs": [
    {
     "name": "stdout",
     "output_type": "stream",
     "text": [
      "[[0 3 6 6 1]\n",
      " [4 5 8 1 7]\n",
      " [8 5 0 0 5]\n",
      " [5 8 3 8 6]\n",
      " [6 2 0 6 7]]\n",
      "average = 4.4\n",
      "\n",
      "number greater than avg = \n",
      "[6 6 5 8 7 8 5 5 5 8 8 6 6 6 7]\n"
     ]
    }
   ],
   "source": [
    "# 3.Create a (5X5) random numpy array and print the numbers from the array which are greater than average value of the array.\n",
    "# Hint: Use np.where() function\n",
    "\n",
    "arr_new = np.random.randint(9,size=(5,5))\n",
    "print(arr_new)\n",
    "\n",
    "avg = arr_new.mean()\n",
    "print(\"average = \"+str(avg))\n",
    "\n",
    "print(\"\\nnumber greater than avg = \")\n",
    "print(arr_new[np.where(arr_new>avg)])"
   ]
  },
  {
   "cell_type": "code",
   "execution_count": 5,
   "metadata": {},
   "outputs": [
    {
     "name": "stdout",
     "output_type": "stream",
     "text": [
      "[[27 26 29  2 38  0 41 30 18 45]\n",
      " [ 6 25 36 46 36 15  1 33 46 43]\n",
      " [ 4  1 35 33  5 39  9 28 10 44]\n",
      " [ 0 15 13  5 40 11 12 21 36 47]\n",
      " [48 28 12  3 39 44 17 20 32  8]\n",
      " [21 37 47 32 15 33  8 46 13 46]\n",
      " [18 41  1 44 49  4 42 29 11 35]\n",
      " [39 35 14 49 30 20 31 24 26 44]\n",
      " [37 43 35  2 22 34 43  7 46 35]\n",
      " [ 0 28 39 42 23 11  7 31 27 14]]\n",
      "\n",
      "row wise mean\n",
      "[25.6 28.7 20.8 20.  25.1 29.8 27.4 31.2 30.4 22.2]\n",
      "\n",
      "column wise mean\n",
      "[20.  27.9 26.1 25.8 29.7 21.1 21.1 26.9 26.5 36.1]\n",
      "\n",
      "row wise max\n",
      "[45 46 44 47 48 47 49 49 46 42]\n",
      "\n",
      "row wise min\n",
      "[ 0  1  1  0  3  8  1 14  2  0]\n",
      "\n",
      "col wise max\n",
      "[48 43 47 49 49 44 43 46 46 47]\n",
      "\n",
      "col wise min\n",
      "[ 0  1  1  2  5  0  1  7 10  8]\n",
      "\n",
      "row wise std\n",
      "[14.3888846  15.53093687 15.65758602 14.93318452 14.74754217 13.93413076\n",
      " 16.74037037 10.28396811 14.4374513  13.1362095 ]\n",
      "\n",
      "row wise var\n",
      "[207.04 241.21 245.16 223.   217.49 194.16 280.24 105.76 208.44 172.56]\n",
      "\n",
      "col wise std\n",
      "[16.55294536 11.97873115 14.19471733 19.27589168 12.66530694 14.60445138\n",
      " 15.59134375  9.59635347 12.83939251 13.22459829]\n",
      "\n",
      "col wise var\n",
      "[274.   143.49 201.49 371.56 160.41 213.29 243.09  92.09 164.85 174.89]\n"
     ]
    }
   ],
   "source": [
    "# 4.Given an array of random integers:\n",
    "arr1 = np.random.randint(50,size=(10,10))\n",
    "# Find out : a) row wise and column wise mean b) row wise and column wise max and min values c) Variance and Standard Deviation \n",
    "# of the array.\n",
    "print(arr1)\n",
    "print(\"\\nrow wise mean\")\n",
    "print(arr1.mean(axis = 1))\n",
    "\n",
    "print(\"\\ncolumn wise mean\")\n",
    "print(arr1.mean(axis = 0))\n",
    "\n",
    "print(\"\\nrow wise max\")\n",
    "print(arr1.max(axis = 1))\n",
    "\n",
    "print(\"\\nrow wise min\")\n",
    "print(arr1.min(axis=1))\n",
    "\n",
    "print(\"\\ncol wise max\")\n",
    "print(arr1.max(axis = 0))\n",
    "\n",
    "print(\"\\ncol wise min\")\n",
    "print(arr1.min(axis=0))\n",
    "\n",
    "\n",
    "print(\"\\nrow wise std\")\n",
    "print(arr1.std(axis = 1))\n",
    "\n",
    "print(\"\\nrow wise var\")\n",
    "print(arr1.var(axis=1))\n",
    "\n",
    "print(\"\\ncol wise std\")\n",
    "print(arr1.std(axis = 0))\n",
    "\n",
    "print(\"\\ncol wise var\")\n",
    "print(arr1.var(axis=0))\n",
    "\n",
    "\n",
    "\n"
   ]
  },
  {
   "cell_type": "code",
   "execution_count": 6,
   "metadata": {},
   "outputs": [
    {
     "name": "stdout",
     "output_type": "stream",
     "text": [
      "[[48 57]\n",
      " [38 48]]\n",
      "\n",
      "\n",
      "[[48 57]\n",
      " [38 48]]\n"
     ]
    }
   ],
   "source": [
    "# 5.Given two matrices:\n",
    "arr1 = np.matrix([[4,5],[7,3]])\n",
    "arr2 = np.matrix([[2,3],[8,9]])\n",
    "\n",
    "# Find out the matrix multiplication of the above two matrices without using numpy function and then verify your answer \n",
    "# using np.dot(arr1,arr2) function\n",
    "\n",
    "\n",
    "multiplication = np.matrix([[0,0],[0,0]])\n",
    "summ = 0\n",
    "for i in range(0,2):\n",
    "    for j in range(0,2):\n",
    "        for k in range(0,2):\n",
    "            multiplication[i,j]= multiplication[i,j]+arr1[i,k]*arr2[k,j]\n",
    "print(multiplication)\n",
    "\n",
    "print(\"\\n\")\n",
    "print(np.dot(arr1,arr2))"
   ]
  }
 ],
 "metadata": {
  "kernelspec": {
   "display_name": "Python 3",
   "language": "python",
   "name": "python3"
  },
  "language_info": {
   "codemirror_mode": {
    "name": "ipython",
    "version": 3
   },
   "file_extension": ".py",
   "mimetype": "text/x-python",
   "name": "python",
   "nbconvert_exporter": "python",
   "pygments_lexer": "ipython3",
   "version": "3.6.4"
  }
 },
 "nbformat": 4,
 "nbformat_minor": 2
}
