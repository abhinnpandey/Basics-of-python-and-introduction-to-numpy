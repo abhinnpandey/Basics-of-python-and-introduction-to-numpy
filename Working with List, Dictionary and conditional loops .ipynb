{
 "cells": [
  {
   "cell_type": "markdown",
   "metadata": {},
   "source": [
    "# Python Introduction\n",
    "\n",
    "Data cleansing, List, Dictionary, conditionals, loops"
   ]
  },
  {
   "cell_type": "code",
   "execution_count": 1,
   "metadata": {},
   "outputs": [],
   "source": [
    "#You are given the batting data of qualifier between MI and KKR in the form of a nested dictionary.\n",
    "\n",
    "qualifier_2 = {'KKR' : {'Chris Lynn': 4, \n",
    "                      'Sunil Narine': 10, \n",
    "                      'Gautam Gambhir (c)': 12, \n",
    "                      'Robin Uthappa (wk)': 1, \n",
    "                      'Ishank Jaggi': 28, \n",
    "                      'Colin Grandhomme': 0,\n",
    "                      'Suryakumar Yadav': 31,\n",
    "                      'Piyush Chawla': 2,\n",
    "                      'Nathan Coulter-Nile': 6,\n",
    "                      'Umesh Yadav': 2,\n",
    "                      'Ankit Rajpoot': 4,\n",
    "                      'Extra runs': 7,\n",
    "                      'Total batted': 10},\n",
    "                'MI': {'Lendl Simmons': 3,\n",
    "                      'Parthiv Patel (wk)': 14,\n",
    "                      'Ambati Rayudu': 6,\n",
    "                      'Rohit Sharma (c)': 26,\n",
    "                      'Krunal Pandya': 45,\n",
    "                      'Kieron Pollard': 9,\n",
    "                      'Extra runs': 8,\n",
    "                      'Total batted': 6}}\n"
   ]
  },
  {
   "cell_type": "code",
   "execution_count": 2,
   "metadata": {},
   "outputs": [
    {
     "name": "stdout",
     "output_type": "stream",
     "text": [
      "{'KKR': {'Chris Lynn': 4, 'Sunil Narine': 10, 'Gautam Gambhir (c)': 12, 'Robin Uthappa (wk)': 1, 'Ishank Jaggi': 28, 'Colin Grandhomme': 0, 'Suryakumar Yadav': 31, 'Piyush Chawla': 2, 'Nathan Coulter-Nile': 6, 'Umesh Yadav': 2, 'Ankit Rajpoot': 4, 'Extra runs': 7}, 'MI': {'Lendl Simmons': 3, 'Parthiv Patel (wk)': 14, 'Ambati Rayudu': 6, 'Rohit Sharma (c)': 26, 'Krunal Pandya': 45, 'Kieron Pollard': 9, 'Extra runs': 8}}\n"
     ]
    }
   ],
   "source": [
    "#Question 1:\n",
    "#Clean the data and delete any entry from the dictionary that would impact your finding the total score later \n",
    "#(hint: do you get total score if you add all the runs?)\n",
    "\n",
    "'''Removing Total batted as it dosen't adds to total score'''\n",
    "\n",
    "for k in qualifier_2:\n",
    "    del(qualifier_2[k]['Total batted'])\n",
    "    \n",
    "print(qualifier_2)    \n"
   ]
  },
  {
   "cell_type": "code",
   "execution_count": 3,
   "metadata": {},
   "outputs": [
    {
     "name": "stdout",
     "output_type": "stream",
     "text": [
      "kkr_name =\n",
      "['Chris', 'Sunil', 'Gautam', 'Robin', 'Ishank', 'Colin', 'Suryakumar', 'Piyush', 'Nathan', 'Umesh', 'Ankit']\n",
      "kkr_lastname =\n",
      "['Lynn', 'Narine', 'Gambhir', 'Uthappa', 'Jaggi', 'Grandhomme', 'Yadav', 'Chawla', 'Coulter-Nile', 'Yadav', 'Rajpoot']\n",
      "mi_name =\n",
      "['Lendl', 'Parthiv', 'Ambati', 'Rohit', 'Krunal', 'Kieron']\n",
      "mi_lastname =\n",
      "['Simmons', 'Patel', 'Rayudu', 'Sharma', 'Pandya', 'Pollard']\n"
     ]
    }
   ],
   "source": [
    "#Question 2:\n",
    "#Create 4 lists consisting of names and lastnames of players: kkr_name, kkr_lastname, mi_name, mi_last and delete any entries\n",
    "#in the lists that don't reflect player names.\n",
    "#They should look like: print(kkr_name) ['Chris', 'Sunil', 'Gautam'] etc.\n",
    "kkr_name=[] \n",
    "kkr_lastname=[] \n",
    "mi_name=[] \n",
    "mi_lastname=[]\n",
    "for k1 in qualifier_2:\n",
    "    for k2 in qualifier_2[k1]:\n",
    "        if k1 ==\"KKR\":\n",
    "            player_full_name = k2.split()\n",
    "            if k2 != \"Extra runs\":\n",
    "                kkr_name.append(player_full_name[0])\n",
    "                kkr_lastname.append(player_full_name[1])\n",
    "        if k1 ==\"MI\":\n",
    "            player_full_name = k2.split()\n",
    "            if k2 != \"Extra runs\":\n",
    "                mi_name.append(player_full_name[0])\n",
    "                mi_lastname.append(player_full_name[1])\n",
    "\n",
    "                \n",
    "print(\"kkr_name =\"+\"\\n\" +str(kkr_name))\n",
    "print(\"kkr_lastname =\"+\"\\n\"+str(kkr_lastname))\n",
    "print(\"mi_name =\"+\"\\n\"+str(mi_name))\n",
    "print(\"mi_lastname =\"+\"\\n\"+str(mi_lastname))\n",
    "            "
   ]
  },
  {
   "cell_type": "code",
   "execution_count": 4,
   "metadata": {},
   "outputs": [],
   "source": [
    "#Question 3:\n",
    "# Write a function that takes dictionary and team as an argument and returns the total runs\n",
    "# Test case:\n",
    "# print(total_runs(qualifier_2, 'KKR')) should print 107\n",
    "\n",
    "def total_runs(dictionary,team):\n",
    "    runs = 0\n",
    "    for k in dictionary[team]:\n",
    "        runs +=int(dictionary[team][k])\n",
    "    return runs"
   ]
  },
  {
   "cell_type": "code",
   "execution_count": 5,
   "metadata": {},
   "outputs": [
    {
     "name": "stdout",
     "output_type": "stream",
     "text": [
      "107\n",
      "111\n"
     ]
    }
   ],
   "source": [
    "print(total_runs(qualifier_2, 'KKR')) #result for above definition\n",
    "print(total_runs(qualifier_2, 'MI'))"
   ]
  },
  {
   "cell_type": "code",
   "execution_count": 6,
   "metadata": {},
   "outputs": [],
   "source": [
    "#Question 4:\n",
    "#.Write a function that takes dictionary and returns the name of the winning team.\n",
    "# Test case:\n",
    "# winner(qualifier_2) should print 'MI'\n",
    "def winner(dictionary):\n",
    "    team_score = {}\n",
    "    for k in dictionary:\n",
    "        team_score[k] = total_runs(dictionary,k)\n",
    "    winning_team = max(team_score.keys(),key= (lambda k: team_score[k]) ) \n",
    "    return winning_team"
   ]
  },
  {
   "cell_type": "code",
   "execution_count": 7,
   "metadata": {},
   "outputs": [
    {
     "name": "stdout",
     "output_type": "stream",
     "text": [
      "MI\n"
     ]
    }
   ],
   "source": [
    "win = winner(qualifier_2)\n",
    "print(win)"
   ]
  },
  {
   "cell_type": "code",
   "execution_count": 8,
   "metadata": {},
   "outputs": [],
   "source": [
    "#Question 5:\n",
    "#Write a function that returns the name of the team that gave maximum extra runs. \n",
    "#If the extra runs are same for both the teams, the function should print('Both team bowlers equally sloppy')\n",
    "# Test case:\n",
    "#print(sloppy_bowlers(qualifier_2)) should print 'MI'\n",
    "\n",
    "def sloppy_bowlers(dictionary):\n",
    "    teams = []\n",
    "    for k in dictionary:\n",
    "        teams.append(k)\n",
    "    print (dictionary[teams[0]]['Extra runs'])\n",
    "    print (dictionary[teams[1]]['Extra runs'])\n",
    "    if dictionary[teams[0]]['Extra runs'] > dictionary[teams[1]]['Extra runs']:\n",
    "        return teams[0]\n",
    "    if dictionary[teams[0]]['Extra runs'] < dictionary[teams[1]]['Extra runs']:\n",
    "        return teams[1]\n",
    "    else:\n",
    "        return \"both teams bowlers are equally sloppy\""
   ]
  },
  {
   "cell_type": "code",
   "execution_count": 9,
   "metadata": {},
   "outputs": [
    {
     "name": "stdout",
     "output_type": "stream",
     "text": [
      "7\n",
      "8\n",
      "MI\n"
     ]
    }
   ],
   "source": [
    "sloppy_team = sloppy_bowlers(qualifier_2)\n",
    "\n",
    "print(sloppy_team)\n"
   ]
  },
  {
   "cell_type": "code",
   "execution_count": 10,
   "metadata": {},
   "outputs": [
    {
     "name": "stdout",
     "output_type": "stream",
     "text": [
      "Come on!\n",
      "Come on!\n",
      "Ok you did something\n",
      "Come on!\n",
      "YOu can do better\n",
      "Duck\n",
      "good job\n",
      "Come on!\n",
      "Come on!\n",
      "Come on!\n",
      "Come on!\n"
     ]
    }
   ],
   "source": [
    "#Question 6:\n",
    "# Given the list kkr_runs = [4, 10, 12, 1, 28, 0, 31, 2, 6, 2, 4], \n",
    "# print \"good job\" if the score is more than 30, \n",
    "# \"YOu can do better\" if the score is greater than 20 but less than 30,\n",
    "# \"Ok you did something\" if the score is more than 10 and less than or equal to 20,\n",
    "# \"Duck\" if its 0,\n",
    "# \"Come on!\" if its more than 0 and less than or equal to 10\n",
    "\n",
    "kkr_runs = [4, 10, 12, 1, 28, 0, 31, 2, 6, 2, 4]\n",
    "\n",
    "for runs in kkr_runs:\n",
    "    if runs >30:\n",
    "        print(\"good job\")\n",
    "    elif 30 >= runs >20:\n",
    "        print(\"YOu can do better\")\n",
    "    elif 20>= runs>10:\n",
    "        print(\"Ok you did something\")\n",
    "    elif runs == 0:\n",
    "        print(\"Duck\")\n",
    "    else:\n",
    "        print(\"Come on!\")\n",
    "        "
   ]
  },
  {
   "cell_type": "code",
   "execution_count": 11,
   "metadata": {},
   "outputs": [
    {
     "name": "stdout",
     "output_type": "stream",
     "text": [
      "Please enter 1st no9\n",
      "Please enter 2nd no8\n",
      "8\n",
      "9\n"
     ]
    }
   ],
   "source": [
    "#Question 7:\n",
    "# Ask the user to enter two numbers. Print all numbers between these two numbers, both numbers included. \n",
    "# The numbers could be in any order. Use while loop\n",
    "# If both the numbers are same, print \"duh\".\n",
    "first=input(\"Please enter 1st no\")\n",
    "second=input(\"Please enter 2nd no\")\n",
    "first = int(first)\n",
    "second = int(second)\n",
    "if first == second:\n",
    "    print(\"duh\")\n",
    "else:\n",
    "    if (first) > (second):\n",
    "        for i in range(second,first+1):\n",
    "            print(i)\n",
    "    else:\n",
    "        for i in range(first,second+1):\n",
    "            print(i)\n"
   ]
  },
  {
   "cell_type": "markdown",
   "metadata": {},
   "source": [
    "Extra credits:"
   ]
  },
  {
   "cell_type": "code",
   "execution_count": 12,
   "metadata": {},
   "outputs": [
    {
     "name": "stdout",
     "output_type": "stream",
     "text": [
      "enter no of ur choice from 0 to 108\n",
      "Go high\n",
      "enter no of ur choice from 0 to 109\n",
      "Go high\n",
      "enter no of ur choice from 0 to 1010\n",
      "Congrats\n"
     ]
    }
   ],
   "source": [
    "#Question 8:\n",
    "#Generate a random number using following code\n",
    "import random\n",
    "random_number = random.randint( 0, 10)\n",
    "#Now keep asking the user to guess the number. If user's guess is more than the random number, print ('Go low'),\n",
    "#if user's guess is less than the random number, print ('Go high'),\n",
    "#when user makes the right guess, print ('Congratulations') and stop the loop\n",
    "guess = \"invalid\"\n",
    "user_guess = input(\"enter no of ur choice from 0 to 10\")\n",
    "user_guess = int(user_guess)\n",
    "while guess == \"invalid\":\n",
    "    if user_guess > random_number:\n",
    "        print(\"Go Low\")\n",
    "        user_guess = input(\"enter no of ur choice from 0 to 10\")\n",
    "        user_guess = int(user_guess)\n",
    "    if user_guess < random_number:\n",
    "        print(\"Go high\")\n",
    "        user_guess = input(\"enter no of ur choice from 0 to 10\")\n",
    "        user_guess = int(user_guess)\n",
    "    if user_guess == random_number:\n",
    "        print(\"Congrats\")\n",
    "        guess = \"valid\"\n",
    "\n"
   ]
  },
  {
   "cell_type": "code",
   "execution_count": 13,
   "metadata": {},
   "outputs": [
    {
     "name": "stdout",
     "output_type": "stream",
     "text": [
      "[0, 1, 2, 4, 6, 10, 12, 28, 31]\n"
     ]
    }
   ],
   "source": [
    "#Question 9:\n",
    "#Given the list of kkr score, return another list kkr_unique with only unique runs (The list would have only a single instance of numbers 4 and 2)\n",
    "kkr_runs = [4, 10, 12, 1, 28, 0, 31, 2, 6, 2, 4]\n",
    "kkr_runs = set(kkr_runs)\n",
    "kkr_runs  = list(kkr_runs)\n",
    "\n",
    "print(kkr_runs)"
   ]
  },
  {
   "cell_type": "code",
   "execution_count": 14,
   "metadata": {},
   "outputs": [],
   "source": [
    "#Question 10:\n",
    "# Write your own sort functin called my_sort() that takes a list as an argument and returns the sorted list.\n",
    "# Test case:\n",
    "# my_sort([3, 14, 6, 26, 45, 9, 8]) should return [3, 6, 8, 9, 14, 26, 45]\n",
    "\n",
    "def my_sort(array):\n",
    "    for j in range(0,len(array)-1):\n",
    "        for i in range(0,len(array)-1-j):\n",
    "            if array[i] > array[i+1]:\n",
    "                c = array[i]\n",
    "                array[i]= array[i+1]\n",
    "                array[i+1] = c\n",
    "    print(array)"
   ]
  },
  {
   "cell_type": "code",
   "execution_count": 15,
   "metadata": {},
   "outputs": [
    {
     "name": "stdout",
     "output_type": "stream",
     "text": [
      "[1, 2, 4, 6, 8]\n"
     ]
    }
   ],
   "source": [
    "my_sort([4,2,1,6,8])"
   ]
  }
 ],
 "metadata": {
  "kernelspec": {
   "display_name": "Python 3",
   "language": "python",
   "name": "python3"
  },
  "language_info": {
   "codemirror_mode": {
    "name": "ipython",
    "version": 3
   },
   "file_extension": ".py",
   "mimetype": "text/x-python",
   "name": "python",
   "nbconvert_exporter": "python",
   "pygments_lexer": "ipython3",
   "version": "3.6.4"
  }
 },
 "nbformat": 4,
 "nbformat_minor": 2
}
